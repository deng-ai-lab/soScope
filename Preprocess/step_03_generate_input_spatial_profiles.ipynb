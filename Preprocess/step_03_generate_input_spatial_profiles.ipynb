{
 "cells": [
  {
   "cell_type": "code",
   "execution_count": null,
   "id": "29d9255b-7558-4018-8b9b-cdd8cecc15b9",
   "metadata": {},
   "outputs": [],
   "source": [
    "project_name = 'humanskin'"
   ]
  },
  {
   "cell_type": "code",
   "execution_count": null,
   "id": "2c25b12d-a8d4-4dfb-b7e9-fe2ed8fb2dca",
   "metadata": {},
   "outputs": [],
   "source": [
    "import numpy as np"
   ]
  },
  {
   "cell_type": "code",
   "execution_count": null,
   "id": "e56ec57b-7f74-4836-ae80-5d807854adc7",
   "metadata": {},
   "outputs": [],
   "source": [
    "image_feature = np.load(f'data/{project_name}/x3/support_feature.npy')"
   ]
  },
  {
   "cell_type": "code",
   "execution_count": null,
   "id": "0ca30318-51b9-42d5-a1f8-05db18c8b93e",
   "metadata": {},
   "outputs": [],
   "source": [
    "num = image_feature.shape[0]\n",
    "grid = 9\n",
    "center_feature = np.zeros((num//grid, image_feature.shape[1]))"
   ]
  },
  {
   "cell_type": "code",
   "execution_count": null,
   "id": "d74cab9e-0c6f-4d50-a6dc-9f2910164614",
   "metadata": {},
   "outputs": [],
   "source": [
    "for i in range(num//grid):\n",
    "   center_feature[i, :] =  image_feature[9*i+8]"
   ]
  },
  {
   "cell_type": "code",
   "execution_count": null,
   "id": "b309ef86-671a-4aba-bdcf-639cfd4f2dba",
   "metadata": {},
   "outputs": [],
   "source": [
    "np.save(f'data/{project_name}/x3/sub_spot_bias.npy', center_feature)"
   ]
  },
  {
   "cell_type": "code",
   "execution_count": null,
   "id": "8cb12a40-bc6c-487c-a1b1-0b2b4b9089da",
   "metadata": {},
   "outputs": [],
   "source": [
    "pro_count = pd.read_csv(f'data/{project_name}/x3/reordered_filtered_pro.csv', index_col=0)\n",
    "pro_count"
   ]
  },
  {
   "cell_type": "code",
   "execution_count": null,
   "id": "53f3c677-2ebc-4476-b064-802d016f7751",
   "metadata": {},
   "outputs": [],
   "source": [
    "np.save(f'data/{project_name}/x3/label.npy', pro_count.values)\n",
    "np.save(f'data/{project_name}/x3/label.npy', pro_count.values)"
   ]
  }
 ],
 "metadata": {
  "kernelspec": {
   "display_name": "Python 3 (ipykernel)",
   "language": "python",
   "name": "python3"
  },
  "language_info": {
   "codemirror_mode": {
    "name": "ipython",
    "version": 3
   },
   "file_extension": ".py",
   "mimetype": "text/x-python",
   "name": "python",
   "nbconvert_exporter": "python",
   "pygments_lexer": "ipython3",
   "version": "3.8.3"
  }
 },
 "nbformat": 4,
 "nbformat_minor": 5
}
